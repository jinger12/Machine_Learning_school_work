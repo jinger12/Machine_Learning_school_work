{
 "cells": [
  {
   "cell_type": "markdown",
   "id": "48463b5f",
   "metadata": {},
   "source": [
    "## import required packages"
   ]
  },
  {
   "cell_type": "code",
   "execution_count": 2,
   "id": "3c15b47c",
   "metadata": {},
   "outputs": [],
   "source": [
    "import pandas as pd\n",
    "import numpy as np\n",
    "from sklearn.preprocessing import LabelEncoder\n",
    "from sklearn.impute import SimpleImputer\n",
    "from sklearn.pipeline import Pipeline\n",
    "from sklearn.preprocessing import StandardScaler, OneHotEncoder\n",
    "from sklearn.compose import ColumnTransformer\n",
    "from sklearn.pipeline import Pipeline\n",
    "from sklearn.impute import SimpleImputer\n",
    "from sklearn.linear_model import ElasticNet\n",
    "from category_encoders import TargetEncoder\n",
    "from sklearn.model_selection import train_test_split\n",
    "from sklearn.model_selection import GridSearchCV\n",
    "from sklearn.metrics import mean_absolute_error\n",
    "from sklearn.inspection import permutation_importance\n",
    "from sklearn.datasets import make_regression\n",
    "from sklearn.model_selection import cross_val_score\n",
    "from sklearn.linear_model import LinearRegression\n",
    "from sklearn.metrics import mean_squared_error"
   ]
  },
  {
   "cell_type": "markdown",
   "id": "e01fc0c9",
   "metadata": {},
   "source": [
    "## task"
   ]
  },
  {
   "cell_type": "markdown",
   "id": "791ed22d",
   "metadata": {},
   "source": [
    "## load the data"
   ]
  },
  {
   "cell_type": "code",
   "execution_count": 3,
   "id": "fff8a42d",
   "metadata": {},
   "outputs": [
    {
     "name": "stdout",
     "output_type": "stream",
     "text": [
      "(150, 5)\n"
     ]
    },
    {
     "data": {
      "text/html": [
       "<div>\n",
       "<style scoped>\n",
       "    .dataframe tbody tr th:only-of-type {\n",
       "        vertical-align: middle;\n",
       "    }\n",
       "\n",
       "    .dataframe tbody tr th {\n",
       "        vertical-align: top;\n",
       "    }\n",
       "\n",
       "    .dataframe thead th {\n",
       "        text-align: right;\n",
       "    }\n",
       "</style>\n",
       "<table border=\"1\" class=\"dataframe\">\n",
       "  <thead>\n",
       "    <tr style=\"text-align: right;\">\n",
       "      <th></th>\n",
       "      <th>sepal_length</th>\n",
       "      <th>sepal_width</th>\n",
       "      <th>petal_width</th>\n",
       "      <th>species</th>\n",
       "      <th>petal_length</th>\n",
       "    </tr>\n",
       "  </thead>\n",
       "  <tbody>\n",
       "    <tr>\n",
       "      <th>0</th>\n",
       "      <td>6.1</td>\n",
       "      <td>2.8</td>\n",
       "      <td>1.2</td>\n",
       "      <td>Iris-versicolor</td>\n",
       "      <td>4.7</td>\n",
       "    </tr>\n",
       "    <tr>\n",
       "      <th>1</th>\n",
       "      <td>5.7</td>\n",
       "      <td>3.8</td>\n",
       "      <td>NaN</td>\n",
       "      <td>Iris-setosa</td>\n",
       "      <td>1.7</td>\n",
       "    </tr>\n",
       "    <tr>\n",
       "      <th>2</th>\n",
       "      <td>7.7</td>\n",
       "      <td>2.6</td>\n",
       "      <td>2.3</td>\n",
       "      <td>Iris-virginica</td>\n",
       "      <td>6.9</td>\n",
       "    </tr>\n",
       "    <tr>\n",
       "      <th>3</th>\n",
       "      <td>6.0</td>\n",
       "      <td>2.9</td>\n",
       "      <td>1.5</td>\n",
       "      <td>NaN</td>\n",
       "      <td>4.5</td>\n",
       "    </tr>\n",
       "    <tr>\n",
       "      <th>4</th>\n",
       "      <td>6.8</td>\n",
       "      <td>2.8</td>\n",
       "      <td>1.4</td>\n",
       "      <td>Iris-versicolor</td>\n",
       "      <td>4.8</td>\n",
       "    </tr>\n",
       "  </tbody>\n",
       "</table>\n",
       "</div>"
      ],
      "text/plain": [
       "   sepal_length  sepal_width  petal_width          species  petal_length\n",
       "0           6.1          2.8          1.2  Iris-versicolor           4.7\n",
       "1           5.7          3.8          NaN      Iris-setosa           1.7\n",
       "2           7.7          2.6          2.3   Iris-virginica           6.9\n",
       "3           6.0          2.9          1.5              NaN           4.5\n",
       "4           6.8          2.8          1.4  Iris-versicolor           4.8"
      ]
     },
     "execution_count": 3,
     "metadata": {},
     "output_type": "execute_result"
    }
   ],
   "source": [
    "df = pd.read_csv('modified_iris_ds5220_midterm.csv')\n",
    "print(df.shape)\n",
    "df.head()"
   ]
  },
  {
   "cell_type": "markdown",
   "id": "77e154f2",
   "metadata": {},
   "source": [
    "## check out missingness"
   ]
  },
  {
   "cell_type": "markdown",
   "id": "17571a16",
   "metadata": {},
   "source": [
    "### make sure that there is no missingness in the target attribute"
   ]
  },
  {
   "cell_type": "code",
   "execution_count": 4,
   "id": "ad165448",
   "metadata": {},
   "outputs": [
    {
     "name": "stdout",
     "output_type": "stream",
     "text": [
      "Number of NaN values in column 'petal_length': 0\n"
     ]
    }
   ],
   "source": [
    "column_name = 'petal_length'\n",
    "\n",
    "nan_count = df[column_name].isna().sum()\n",
    "\n",
    "print(f\"Number of NaN values in column '{column_name}': {nan_count}\")"
   ]
  },
  {
   "cell_type": "code",
   "execution_count": 5,
   "id": "77acd405",
   "metadata": {},
   "outputs": [
    {
     "name": "stdout",
     "output_type": "stream",
     "text": [
      "(150, 5)\n"
     ]
    },
    {
     "data": {
      "text/html": [
       "<div>\n",
       "<style scoped>\n",
       "    .dataframe tbody tr th:only-of-type {\n",
       "        vertical-align: middle;\n",
       "    }\n",
       "\n",
       "    .dataframe tbody tr th {\n",
       "        vertical-align: top;\n",
       "    }\n",
       "\n",
       "    .dataframe thead th {\n",
       "        text-align: right;\n",
       "    }\n",
       "</style>\n",
       "<table border=\"1\" class=\"dataframe\">\n",
       "  <thead>\n",
       "    <tr style=\"text-align: right;\">\n",
       "      <th></th>\n",
       "      <th>sepal_length</th>\n",
       "      <th>sepal_width</th>\n",
       "      <th>petal_width</th>\n",
       "      <th>species</th>\n",
       "      <th>petal_length</th>\n",
       "    </tr>\n",
       "  </thead>\n",
       "  <tbody>\n",
       "    <tr>\n",
       "      <th>0</th>\n",
       "      <td>6.1</td>\n",
       "      <td>2.8</td>\n",
       "      <td>1.2</td>\n",
       "      <td>Iris-versicolor</td>\n",
       "      <td>4.7</td>\n",
       "    </tr>\n",
       "    <tr>\n",
       "      <th>1</th>\n",
       "      <td>5.7</td>\n",
       "      <td>3.8</td>\n",
       "      <td>NaN</td>\n",
       "      <td>Iris-setosa</td>\n",
       "      <td>1.7</td>\n",
       "    </tr>\n",
       "    <tr>\n",
       "      <th>2</th>\n",
       "      <td>7.7</td>\n",
       "      <td>2.6</td>\n",
       "      <td>2.3</td>\n",
       "      <td>Iris-virginica</td>\n",
       "      <td>6.9</td>\n",
       "    </tr>\n",
       "    <tr>\n",
       "      <th>3</th>\n",
       "      <td>6.0</td>\n",
       "      <td>2.9</td>\n",
       "      <td>1.5</td>\n",
       "      <td>NaN</td>\n",
       "      <td>4.5</td>\n",
       "    </tr>\n",
       "    <tr>\n",
       "      <th>4</th>\n",
       "      <td>6.8</td>\n",
       "      <td>2.8</td>\n",
       "      <td>1.4</td>\n",
       "      <td>Iris-versicolor</td>\n",
       "      <td>4.8</td>\n",
       "    </tr>\n",
       "  </tbody>\n",
       "</table>\n",
       "</div>"
      ],
      "text/plain": [
       "   sepal_length  sepal_width  petal_width          species  petal_length\n",
       "0           6.1          2.8          1.2  Iris-versicolor           4.7\n",
       "1           5.7          3.8          NaN      Iris-setosa           1.7\n",
       "2           7.7          2.6          2.3   Iris-virginica           6.9\n",
       "3           6.0          2.9          1.5              NaN           4.5\n",
       "4           6.8          2.8          1.4  Iris-versicolor           4.8"
      ]
     },
     "execution_count": 5,
     "metadata": {},
     "output_type": "execute_result"
    }
   ],
   "source": [
    "df.dropna(subset=[column_name], inplace=True)\n",
    "print(df.shape)\n",
    "df.head()"
   ]
  },
  {
   "cell_type": "markdown",
   "id": "49d1b552",
   "metadata": {},
   "source": [
    "### drop any attribute with greater that 20% missingness"
   ]
  },
  {
   "cell_type": "code",
   "execution_count": 6,
   "id": "d52d9a94",
   "metadata": {},
   "outputs": [
    {
     "name": "stdout",
     "output_type": "stream",
     "text": [
      "(150, 5)\n",
      "     sepal_length  sepal_width  petal_width          species  petal_length\n",
      "0             6.1          2.8          1.2  Iris-versicolor           4.7\n",
      "1             5.7          3.8          NaN      Iris-setosa           1.7\n",
      "2             7.7          2.6          2.3   Iris-virginica           6.9\n",
      "3             6.0          2.9          1.5              NaN           4.5\n",
      "4             6.8          2.8          1.4  Iris-versicolor           4.8\n",
      "..            ...          ...          ...              ...           ...\n",
      "145           6.1          2.8          1.3  Iris-versicolor           4.0\n",
      "146           4.9          NaN          1.7   Iris-virginica           4.5\n",
      "147           5.8          4.0          0.2      Iris-setosa           1.2\n",
      "148           5.8          2.6          1.2  Iris-versicolor           4.0\n",
      "149           7.1          3.0          2.1   Iris-virginica           5.9\n",
      "\n",
      "[150 rows x 5 columns]\n"
     ]
    }
   ],
   "source": [
    "threshold = len(df) * 0.2\n",
    "df.dropna(axis=1, thresh=threshold, inplace=True)\n",
    "print(df.shape)\n",
    "print(df)"
   ]
  },
  {
   "cell_type": "markdown",
   "id": "055b71fa",
   "metadata": {},
   "source": [
    "## train test split - set 20% of the data set aside in the test set, save the test set to storage and delete the test set and the original data frame"
   ]
  },
  {
   "cell_type": "code",
   "execution_count": 7,
   "id": "692aa242",
   "metadata": {},
   "outputs": [],
   "source": [
    "X = df[['sepal_length', 'sepal_width', 'petal_width', 'species']]  # Features\n",
    "y = df['petal_length']  # Target variable"
   ]
  },
  {
   "cell_type": "code",
   "execution_count": 8,
   "id": "0e50467d",
   "metadata": {
    "scrolled": true
   },
   "outputs": [],
   "source": [
    "X_train, X_test, y_train, y_test = train_test_split(X, y, test_size=0.2, random_state=42)\n",
    "\n",
    "\n",
    "X_test.to_csv('test_set.csv', index=False)\n",
    "y_test.to_csv('test_labels.csv', index=False)\n",
    "\n",
    "del X_test, y_test, df\n"
   ]
  },
  {
   "cell_type": "markdown",
   "id": "6bada32e",
   "metadata": {},
   "source": [
    "## check out the data types"
   ]
  },
  {
   "cell_type": "code",
   "execution_count": 9,
   "id": "6792146c",
   "metadata": {},
   "outputs": [
    {
     "name": "stdout",
     "output_type": "stream",
     "text": [
      "sepal_length    float64\n",
      "sepal_width     float64\n",
      "petal_width     float64\n",
      "species          object\n",
      "dtype: object\n",
      "float64\n"
     ]
    }
   ],
   "source": [
    "X_data_types = X_train.dtypes\n",
    "y_data_types = y_train.dtypes\n",
    "print(X_data_types)\n",
    "print(y_data_types)"
   ]
  },
  {
   "cell_type": "markdown",
   "id": "e07f8bdb",
   "metadata": {},
   "source": [
    "## assign predictors to data type lists"
   ]
  },
  {
   "cell_type": "markdown",
   "id": "8f68ad1a",
   "metadata": {},
   "source": [
    "The numerical attributes should be assigned to a list called 'numerical_attrs'.\\\n",
    "\n",
    "The nominal attributes should be assigned to a list called 'nominal_attrs'."
   ]
  },
  {
   "cell_type": "code",
   "execution_count": 10,
   "id": "c411178a",
   "metadata": {},
   "outputs": [
    {
     "name": "stdout",
     "output_type": "stream",
     "text": [
      "Numerical attributes:\n",
      "sepal_length, sepal_width, petal_width\n",
      "\n",
      "Nominal attributes:\n",
      "species\n"
     ]
    }
   ],
   "source": [
    "numerical_attrs = []\n",
    "nominal_attrs = []\n",
    "\n",
    "for column_name, dtype in X_data_types.items():\n",
    "    if dtype == 'int64' or dtype == 'float64':\n",
    "        numerical_attrs.append(column_name)\n",
    "    elif dtype == 'object':\n",
    "        nominal_attrs.append(column_name)\n",
    "\n",
    "print(\"Numerical attributes:\")\n",
    "print(', '.join(numerical_attrs))\n",
    "\n",
    "print(\"\\nNominal attributes:\")\n",
    "print(', '.join(nominal_attrs))\n"
   ]
  },
  {
   "cell_type": "markdown",
   "id": "2f5f14b8",
   "metadata": {},
   "source": [
    "## build out the preprocessor"
   ]
  },
  {
   "cell_type": "markdown",
   "id": "34b66f84",
   "metadata": {},
   "source": [
    "### build out the numerical transformer - include a simple imputer and a standard scaler"
   ]
  },
  {
   "cell_type": "markdown",
   "id": "106beb74",
   "metadata": {},
   "source": [
    "The simple imputer should be named 'imputer'.\\\n",
    "\\\n",
    "The standard scaler should be named 'scaler'."
   ]
  },
  {
   "cell_type": "code",
   "execution_count": 11,
   "id": "2f556a8c",
   "metadata": {},
   "outputs": [],
   "source": [
    "numerical_pipeline = Pipeline([\n",
    "    ('imputer', SimpleImputer(strategy='mean')),\n",
    "    ('scaler', StandardScaler())\n",
    "])"
   ]
  },
  {
   "cell_type": "markdown",
   "id": "892d5a2b",
   "metadata": {},
   "source": [
    "### build out the nominal transformer - include a simple imputer, a traget encoder and a standard scaler"
   ]
  },
  {
   "cell_type": "markdown",
   "id": "e26c79af",
   "metadata": {},
   "source": [
    "The simple imputer should be named 'imputer'.\\\n",
    "\\\n",
    "The target encoder should be named 'target_encoder'.\\\n",
    "\\\n",
    "The standard scaler should be named 'scaler'."
   ]
  },
  {
   "cell_type": "code",
   "execution_count": 12,
   "id": "9e0b7301",
   "metadata": {},
   "outputs": [],
   "source": [
    "nominal_pipeline = Pipeline([\n",
    "    ('imputer', SimpleImputer(strategy='most_frequent')),\n",
    "    ('target_encoder', TargetEncoder(smoothing=1.0)), \n",
    "    ('scaler', StandardScaler())\n",
    "])\n"
   ]
  },
  {
   "cell_type": "markdown",
   "id": "55149dd0",
   "metadata": {},
   "source": [
    "### build out the preprocressor"
   ]
  },
  {
   "cell_type": "markdown",
   "id": "2c7e3bea",
   "metadata": {},
   "source": [
    "The numerical transformer should be named 'numerical'.\\\n",
    "\\\n",
    "The nominal transformer should be named 'nominal'."
   ]
  },
  {
   "cell_type": "code",
   "execution_count": 13,
   "id": "77ce7f3b",
   "metadata": {},
   "outputs": [],
   "source": [
    "preprocessor = ColumnTransformer(\n",
    "    transformers=[\n",
    "        ('num', numerical_pipeline, numerical_attrs),\n",
    "        ('nom', nominal_pipeline, nominal_attrs)\n",
    "    ]\n",
    ")\n"
   ]
  },
  {
   "cell_type": "markdown",
   "id": "213da628",
   "metadata": {},
   "source": [
    "## build out the composite estimator with the default instantiation of sklearn ElasticNet"
   ]
  },
  {
   "cell_type": "markdown",
   "id": "01a9db61",
   "metadata": {},
   "source": [
    "The preprocessor should be named 'preprocessor'.\\\n",
    "\\\n",
    "The estimator should be named 'estimator'."
   ]
  },
  {
   "cell_type": "code",
   "execution_count": 14,
   "id": "e0f088e8",
   "metadata": {},
   "outputs": [],
   "source": [
    "model = Pipeline([\n",
    "    ('preprocessor', preprocessor),\n",
    "    ('estimator', ElasticNet()) \n",
    "])"
   ]
  },
  {
   "cell_type": "markdown",
   "id": "5fdfced7",
   "metadata": {},
   "source": [
    "## use GridSearchCV to tune the hyperparameters of the composite estimator"
   ]
  },
  {
   "cell_type": "markdown",
   "id": "e765bd0d",
   "metadata": {},
   "source": [
    "Use GridSearchCV to tune:\\\n",
    "\\\n",
    "-the preprocessor numerical imputation strategy hyperparameter\\\n",
    "-the nominal target encoding smooth hyperparameter\\\n",
    "-the alpha and l1_ratio hyperparameters of the ElasticNet estimator\\\n",
    "\\\n",
    "The imputation strategy hyperparameter should vary over mean and median.\\\n",
    "\\\n",
    "The smooth hyperparameter should vary from 1.0 to 10 * the number of observations in the train set.\\\n",
    "\\\n",
    "The alpha and l1_ratio hyperparameters should be chosen such that the optimum value is not at the edge of their ranges."
   ]
  },
  {
   "cell_type": "markdown",
   "id": "f81c9343",
   "metadata": {},
   "source": [
    "### set up the parameter grid"
   ]
  },
  {
   "cell_type": "code",
   "execution_count": 15,
   "id": "a1ad8354",
   "metadata": {},
   "outputs": [],
   "source": [
    "num_observations = len(X_train)\n",
    "\n",
    "param_grid = {\n",
    "    'preprocessor__num__imputer__strategy': ['mean', 'median'],\n",
    "    'preprocessor__nom__target_encoder__smoothing': np.linspace(1.0, 10 * num_observations, 10),\n",
    "    'estimator__alpha': np.logspace(-4, 4, 10),\n",
    "    'estimator__l1_ratio': np.linspace(0.01, 1.0, 10)\n",
    "}"
   ]
  },
  {
   "cell_type": "markdown",
   "id": "54092f96",
   "metadata": {},
   "source": [
    "### answer the following questions on the hyperparameters"
   ]
  },
  {
   "cell_type": "markdown",
   "id": "75967a69",
   "metadata": {},
   "source": [
    "1. What role does alpha play in the ElasticNet API? \n",
    "\n",
    "In the context of ElasticNet regression, the 'alpha' hyperparameter plays a crucial role in controlling the overall strength of the regularization. As 'alpha' increases, the magnitude of the regularization term rises, leading to a more constrained model with coefficients potentially shrinking towards zero. This can be particularly useful in preventing overfitting, especially when dealing with datasets that have collinear features. Conversely, when 'alpha' is set to 0, the regularization term is effectively removed, reverting the model to an ordinary least squares regression.\n",
    "\n",
    "2. How would you describe the ElasticNet API when alpha = 0? \n",
    "\n",
    "Setting 'alpha' to 0 in the ElasticNet model effectively nullifies the regularization component. In this scenario, the model behaves just like an ordinary least squares linear regression, focusing solely on minimizing the residual sum of squares without any constraint on the magnitude of the coefficients.\n",
    "\n",
    "3. What role does l1_ratio play in the ElasticNet API? \n",
    "\n",
    "ElasticNet gracefully combines the properties of both Ridge and Lasso regression. The l1_ratio parameter helps in controlling the balance between these two types of regularization. An l1_ratio close to 1 implies more lasso-like behavior, promoting sparsity by setting certain coefficients to zero. On the other hand, an l1_ratio close to 0 implies more ridge-like behavior, distributing the coefficient shrinkage more evenly across features without forcing them to absolute zero.\n",
    "\n",
    "4. How would you describe the ElasticNet API when l1_ratio = 0? \n",
    "\n",
    "When the l1_ratio is set to 0 in ElasticNet, the penalty becomes purely L2 or ridge regularization. Ridge regression is known for its ability to handle multicollinearity by distributing the coefficient values across correlated predictors, ensuring that no single predictor has a disproportionately large coefficient.\n",
    "\n",
    "5. How would you describe the ElasticNet API when l1_ratio = 1?\n",
    "\n",
    "When the l1_ratio is set to 1, ElasticNet applies only L1 or lasso regularization. Lasso regression is distinct in its ability to induce sparsity in the coefficient estimates. This means that it can effectively set the coefficients of irrelevant or less important features to zero, serving as an embedded feature selection mechanism.\n",
    "\n",
    "6. What role does smooth play in the TargetEncoder API? \n",
    "\n",
    "Target encoding is a method of encoding categorical variables based on the mean of the target variable. The smooth hyperparameter helps strike a balance between the category's mean and the overall global mean. This is particularly helpful to prevent overfitting, especially for categories with a smaller sample size. By blending the global mean with the category-specific mean through the smooth parameter, we ensure that categories with fewer observations don't exert disproportionate influence on the encoded values, leading to more robust model performance on unseen data."
   ]
  },
  {
   "cell_type": "markdown",
   "id": "dfd5fc59",
   "metadata": {},
   "source": [
    "### instantiate the GridSearchCV object"
   ]
  },
  {
   "cell_type": "code",
   "execution_count": 16,
   "id": "a39820a8",
   "metadata": {},
   "outputs": [],
   "source": [
    "grid_search = GridSearchCV(model, param_grid, cv=5, verbose=1, n_jobs=-1)"
   ]
  },
  {
   "cell_type": "markdown",
   "id": "7c9d38eb",
   "metadata": {},
   "source": [
    "### fit the GridSearchCV object"
   ]
  },
  {
   "cell_type": "code",
   "execution_count": 17,
   "id": "ab81f27d",
   "metadata": {},
   "outputs": [
    {
     "name": "stdout",
     "output_type": "stream",
     "text": [
      "Fitting 5 folds for each of 2000 candidates, totalling 10000 fits\n"
     ]
    },
    {
     "data": {
      "text/html": [
       "<style>#sk-container-id-1 {color: black;}#sk-container-id-1 pre{padding: 0;}#sk-container-id-1 div.sk-toggleable {background-color: white;}#sk-container-id-1 label.sk-toggleable__label {cursor: pointer;display: block;width: 100%;margin-bottom: 0;padding: 0.3em;box-sizing: border-box;text-align: center;}#sk-container-id-1 label.sk-toggleable__label-arrow:before {content: \"▸\";float: left;margin-right: 0.25em;color: #696969;}#sk-container-id-1 label.sk-toggleable__label-arrow:hover:before {color: black;}#sk-container-id-1 div.sk-estimator:hover label.sk-toggleable__label-arrow:before {color: black;}#sk-container-id-1 div.sk-toggleable__content {max-height: 0;max-width: 0;overflow: hidden;text-align: left;background-color: #f0f8ff;}#sk-container-id-1 div.sk-toggleable__content pre {margin: 0.2em;color: black;border-radius: 0.25em;background-color: #f0f8ff;}#sk-container-id-1 input.sk-toggleable__control:checked~div.sk-toggleable__content {max-height: 200px;max-width: 100%;overflow: auto;}#sk-container-id-1 input.sk-toggleable__control:checked~label.sk-toggleable__label-arrow:before {content: \"▾\";}#sk-container-id-1 div.sk-estimator input.sk-toggleable__control:checked~label.sk-toggleable__label {background-color: #d4ebff;}#sk-container-id-1 div.sk-label input.sk-toggleable__control:checked~label.sk-toggleable__label {background-color: #d4ebff;}#sk-container-id-1 input.sk-hidden--visually {border: 0;clip: rect(1px 1px 1px 1px);clip: rect(1px, 1px, 1px, 1px);height: 1px;margin: -1px;overflow: hidden;padding: 0;position: absolute;width: 1px;}#sk-container-id-1 div.sk-estimator {font-family: monospace;background-color: #f0f8ff;border: 1px dotted black;border-radius: 0.25em;box-sizing: border-box;margin-bottom: 0.5em;}#sk-container-id-1 div.sk-estimator:hover {background-color: #d4ebff;}#sk-container-id-1 div.sk-parallel-item::after {content: \"\";width: 100%;border-bottom: 1px solid gray;flex-grow: 1;}#sk-container-id-1 div.sk-label:hover label.sk-toggleable__label {background-color: #d4ebff;}#sk-container-id-1 div.sk-serial::before {content: \"\";position: absolute;border-left: 1px solid gray;box-sizing: border-box;top: 0;bottom: 0;left: 50%;z-index: 0;}#sk-container-id-1 div.sk-serial {display: flex;flex-direction: column;align-items: center;background-color: white;padding-right: 0.2em;padding-left: 0.2em;position: relative;}#sk-container-id-1 div.sk-item {position: relative;z-index: 1;}#sk-container-id-1 div.sk-parallel {display: flex;align-items: stretch;justify-content: center;background-color: white;position: relative;}#sk-container-id-1 div.sk-item::before, #sk-container-id-1 div.sk-parallel-item::before {content: \"\";position: absolute;border-left: 1px solid gray;box-sizing: border-box;top: 0;bottom: 0;left: 50%;z-index: -1;}#sk-container-id-1 div.sk-parallel-item {display: flex;flex-direction: column;z-index: 1;position: relative;background-color: white;}#sk-container-id-1 div.sk-parallel-item:first-child::after {align-self: flex-end;width: 50%;}#sk-container-id-1 div.sk-parallel-item:last-child::after {align-self: flex-start;width: 50%;}#sk-container-id-1 div.sk-parallel-item:only-child::after {width: 0;}#sk-container-id-1 div.sk-dashed-wrapped {border: 1px dashed gray;margin: 0 0.4em 0.5em 0.4em;box-sizing: border-box;padding-bottom: 0.4em;background-color: white;}#sk-container-id-1 div.sk-label label {font-family: monospace;font-weight: bold;display: inline-block;line-height: 1.2em;}#sk-container-id-1 div.sk-label-container {text-align: center;}#sk-container-id-1 div.sk-container {/* jupyter's `normalize.less` sets `[hidden] { display: none; }` but bootstrap.min.css set `[hidden] { display: none !important; }` so we also need the `!important` here to be able to override the default hidden behavior on the sphinx rendered scikit-learn.org. See: https://github.com/scikit-learn/scikit-learn/issues/21755 */display: inline-block !important;position: relative;}#sk-container-id-1 div.sk-text-repr-fallback {display: none;}</style><div id=\"sk-container-id-1\" class=\"sk-top-container\"><div class=\"sk-text-repr-fallback\"><pre>GridSearchCV(cv=5,\n",
       "             estimator=Pipeline(steps=[(&#x27;preprocessor&#x27;,\n",
       "                                        ColumnTransformer(transformers=[(&#x27;num&#x27;,\n",
       "                                                                         Pipeline(steps=[(&#x27;imputer&#x27;,\n",
       "                                                                                          SimpleImputer()),\n",
       "                                                                                         (&#x27;scaler&#x27;,\n",
       "                                                                                          StandardScaler())]),\n",
       "                                                                         [&#x27;sepal_length&#x27;,\n",
       "                                                                          &#x27;sepal_width&#x27;,\n",
       "                                                                          &#x27;petal_width&#x27;]),\n",
       "                                                                        (&#x27;nom&#x27;,\n",
       "                                                                         Pipeline(steps=[(&#x27;imputer&#x27;,\n",
       "                                                                                          SimpleImputer(strategy=&#x27;most_frequent&#x27;)),\n",
       "                                                                                         (&#x27;target_encoder&#x27;,\n",
       "                                                                                          TargetEncoder(smoothing=1.0)),\n",
       "                                                                                         (&#x27;scaler...\n",
       "                         &#x27;estimator__l1_ratio&#x27;: array([0.01, 0.12, 0.23, 0.34, 0.45, 0.56, 0.67, 0.78, 0.89, 1.  ]),\n",
       "                         &#x27;preprocessor__nom__target_encoder__smoothing&#x27;: array([1.00000000e+00, 1.34222222e+02, 2.67444444e+02, 4.00666667e+02,\n",
       "       5.33888889e+02, 6.67111111e+02, 8.00333333e+02, 9.33555556e+02,\n",
       "       1.06677778e+03, 1.20000000e+03]),\n",
       "                         &#x27;preprocessor__num__imputer__strategy&#x27;: [&#x27;mean&#x27;,\n",
       "                                                                  &#x27;median&#x27;]},\n",
       "             verbose=1)</pre><b>In a Jupyter environment, please rerun this cell to show the HTML representation or trust the notebook. <br />On GitHub, the HTML representation is unable to render, please try loading this page with nbviewer.org.</b></div><div class=\"sk-container\" hidden><div class=\"sk-item sk-dashed-wrapped\"><div class=\"sk-label-container\"><div class=\"sk-label sk-toggleable\"><input class=\"sk-toggleable__control sk-hidden--visually\" id=\"sk-estimator-id-1\" type=\"checkbox\" ><label for=\"sk-estimator-id-1\" class=\"sk-toggleable__label sk-toggleable__label-arrow\">GridSearchCV</label><div class=\"sk-toggleable__content\"><pre>GridSearchCV(cv=5,\n",
       "             estimator=Pipeline(steps=[(&#x27;preprocessor&#x27;,\n",
       "                                        ColumnTransformer(transformers=[(&#x27;num&#x27;,\n",
       "                                                                         Pipeline(steps=[(&#x27;imputer&#x27;,\n",
       "                                                                                          SimpleImputer()),\n",
       "                                                                                         (&#x27;scaler&#x27;,\n",
       "                                                                                          StandardScaler())]),\n",
       "                                                                         [&#x27;sepal_length&#x27;,\n",
       "                                                                          &#x27;sepal_width&#x27;,\n",
       "                                                                          &#x27;petal_width&#x27;]),\n",
       "                                                                        (&#x27;nom&#x27;,\n",
       "                                                                         Pipeline(steps=[(&#x27;imputer&#x27;,\n",
       "                                                                                          SimpleImputer(strategy=&#x27;most_frequent&#x27;)),\n",
       "                                                                                         (&#x27;target_encoder&#x27;,\n",
       "                                                                                          TargetEncoder(smoothing=1.0)),\n",
       "                                                                                         (&#x27;scaler...\n",
       "                         &#x27;estimator__l1_ratio&#x27;: array([0.01, 0.12, 0.23, 0.34, 0.45, 0.56, 0.67, 0.78, 0.89, 1.  ]),\n",
       "                         &#x27;preprocessor__nom__target_encoder__smoothing&#x27;: array([1.00000000e+00, 1.34222222e+02, 2.67444444e+02, 4.00666667e+02,\n",
       "       5.33888889e+02, 6.67111111e+02, 8.00333333e+02, 9.33555556e+02,\n",
       "       1.06677778e+03, 1.20000000e+03]),\n",
       "                         &#x27;preprocessor__num__imputer__strategy&#x27;: [&#x27;mean&#x27;,\n",
       "                                                                  &#x27;median&#x27;]},\n",
       "             verbose=1)</pre></div></div></div><div class=\"sk-parallel\"><div class=\"sk-parallel-item\"><div class=\"sk-item\"><div class=\"sk-label-container\"><div class=\"sk-label sk-toggleable\"><input class=\"sk-toggleable__control sk-hidden--visually\" id=\"sk-estimator-id-2\" type=\"checkbox\" ><label for=\"sk-estimator-id-2\" class=\"sk-toggleable__label sk-toggleable__label-arrow\">estimator: Pipeline</label><div class=\"sk-toggleable__content\"><pre>Pipeline(steps=[(&#x27;preprocessor&#x27;,\n",
       "                 ColumnTransformer(transformers=[(&#x27;num&#x27;,\n",
       "                                                  Pipeline(steps=[(&#x27;imputer&#x27;,\n",
       "                                                                   SimpleImputer()),\n",
       "                                                                  (&#x27;scaler&#x27;,\n",
       "                                                                   StandardScaler())]),\n",
       "                                                  [&#x27;sepal_length&#x27;,\n",
       "                                                   &#x27;sepal_width&#x27;,\n",
       "                                                   &#x27;petal_width&#x27;]),\n",
       "                                                 (&#x27;nom&#x27;,\n",
       "                                                  Pipeline(steps=[(&#x27;imputer&#x27;,\n",
       "                                                                   SimpleImputer(strategy=&#x27;most_frequent&#x27;)),\n",
       "                                                                  (&#x27;target_encoder&#x27;,\n",
       "                                                                   TargetEncoder(smoothing=1.0)),\n",
       "                                                                  (&#x27;scaler&#x27;,\n",
       "                                                                   StandardScaler())]),\n",
       "                                                  [&#x27;species&#x27;])])),\n",
       "                (&#x27;estimator&#x27;, ElasticNet())])</pre></div></div></div><div class=\"sk-serial\"><div class=\"sk-item\"><div class=\"sk-serial\"><div class=\"sk-item sk-dashed-wrapped\"><div class=\"sk-label-container\"><div class=\"sk-label sk-toggleable\"><input class=\"sk-toggleable__control sk-hidden--visually\" id=\"sk-estimator-id-3\" type=\"checkbox\" ><label for=\"sk-estimator-id-3\" class=\"sk-toggleable__label sk-toggleable__label-arrow\">preprocessor: ColumnTransformer</label><div class=\"sk-toggleable__content\"><pre>ColumnTransformer(transformers=[(&#x27;num&#x27;,\n",
       "                                 Pipeline(steps=[(&#x27;imputer&#x27;, SimpleImputer()),\n",
       "                                                 (&#x27;scaler&#x27;, StandardScaler())]),\n",
       "                                 [&#x27;sepal_length&#x27;, &#x27;sepal_width&#x27;,\n",
       "                                  &#x27;petal_width&#x27;]),\n",
       "                                (&#x27;nom&#x27;,\n",
       "                                 Pipeline(steps=[(&#x27;imputer&#x27;,\n",
       "                                                  SimpleImputer(strategy=&#x27;most_frequent&#x27;)),\n",
       "                                                 (&#x27;target_encoder&#x27;,\n",
       "                                                  TargetEncoder(smoothing=1.0)),\n",
       "                                                 (&#x27;scaler&#x27;, StandardScaler())]),\n",
       "                                 [&#x27;species&#x27;])])</pre></div></div></div><div class=\"sk-parallel\"><div class=\"sk-parallel-item\"><div class=\"sk-item\"><div class=\"sk-label-container\"><div class=\"sk-label sk-toggleable\"><input class=\"sk-toggleable__control sk-hidden--visually\" id=\"sk-estimator-id-4\" type=\"checkbox\" ><label for=\"sk-estimator-id-4\" class=\"sk-toggleable__label sk-toggleable__label-arrow\">num</label><div class=\"sk-toggleable__content\"><pre>[&#x27;sepal_length&#x27;, &#x27;sepal_width&#x27;, &#x27;petal_width&#x27;]</pre></div></div></div><div class=\"sk-serial\"><div class=\"sk-item\"><div class=\"sk-serial\"><div class=\"sk-item\"><div class=\"sk-estimator sk-toggleable\"><input class=\"sk-toggleable__control sk-hidden--visually\" id=\"sk-estimator-id-5\" type=\"checkbox\" ><label for=\"sk-estimator-id-5\" class=\"sk-toggleable__label sk-toggleable__label-arrow\">SimpleImputer</label><div class=\"sk-toggleable__content\"><pre>SimpleImputer()</pre></div></div></div><div class=\"sk-item\"><div class=\"sk-estimator sk-toggleable\"><input class=\"sk-toggleable__control sk-hidden--visually\" id=\"sk-estimator-id-6\" type=\"checkbox\" ><label for=\"sk-estimator-id-6\" class=\"sk-toggleable__label sk-toggleable__label-arrow\">StandardScaler</label><div class=\"sk-toggleable__content\"><pre>StandardScaler()</pre></div></div></div></div></div></div></div></div><div class=\"sk-parallel-item\"><div class=\"sk-item\"><div class=\"sk-label-container\"><div class=\"sk-label sk-toggleable\"><input class=\"sk-toggleable__control sk-hidden--visually\" id=\"sk-estimator-id-7\" type=\"checkbox\" ><label for=\"sk-estimator-id-7\" class=\"sk-toggleable__label sk-toggleable__label-arrow\">nom</label><div class=\"sk-toggleable__content\"><pre>[&#x27;species&#x27;]</pre></div></div></div><div class=\"sk-serial\"><div class=\"sk-item\"><div class=\"sk-serial\"><div class=\"sk-item\"><div class=\"sk-estimator sk-toggleable\"><input class=\"sk-toggleable__control sk-hidden--visually\" id=\"sk-estimator-id-8\" type=\"checkbox\" ><label for=\"sk-estimator-id-8\" class=\"sk-toggleable__label sk-toggleable__label-arrow\">SimpleImputer</label><div class=\"sk-toggleable__content\"><pre>SimpleImputer(strategy=&#x27;most_frequent&#x27;)</pre></div></div></div><div class=\"sk-item\"><div class=\"sk-estimator sk-toggleable\"><input class=\"sk-toggleable__control sk-hidden--visually\" id=\"sk-estimator-id-9\" type=\"checkbox\" ><label for=\"sk-estimator-id-9\" class=\"sk-toggleable__label sk-toggleable__label-arrow\">TargetEncoder</label><div class=\"sk-toggleable__content\"><pre>TargetEncoder(smoothing=1.0)</pre></div></div></div><div class=\"sk-item\"><div class=\"sk-estimator sk-toggleable\"><input class=\"sk-toggleable__control sk-hidden--visually\" id=\"sk-estimator-id-10\" type=\"checkbox\" ><label for=\"sk-estimator-id-10\" class=\"sk-toggleable__label sk-toggleable__label-arrow\">StandardScaler</label><div class=\"sk-toggleable__content\"><pre>StandardScaler()</pre></div></div></div></div></div></div></div></div></div></div><div class=\"sk-item\"><div class=\"sk-estimator sk-toggleable\"><input class=\"sk-toggleable__control sk-hidden--visually\" id=\"sk-estimator-id-11\" type=\"checkbox\" ><label for=\"sk-estimator-id-11\" class=\"sk-toggleable__label sk-toggleable__label-arrow\">ElasticNet</label><div class=\"sk-toggleable__content\"><pre>ElasticNet()</pre></div></div></div></div></div></div></div></div></div></div></div></div>"
      ],
      "text/plain": [
       "GridSearchCV(cv=5,\n",
       "             estimator=Pipeline(steps=[('preprocessor',\n",
       "                                        ColumnTransformer(transformers=[('num',\n",
       "                                                                         Pipeline(steps=[('imputer',\n",
       "                                                                                          SimpleImputer()),\n",
       "                                                                                         ('scaler',\n",
       "                                                                                          StandardScaler())]),\n",
       "                                                                         ['sepal_length',\n",
       "                                                                          'sepal_width',\n",
       "                                                                          'petal_width']),\n",
       "                                                                        ('nom',\n",
       "                                                                         Pipeline(steps=[('imputer',\n",
       "                                                                                          SimpleImputer(strategy='most_frequent')),\n",
       "                                                                                         ('target_encoder',\n",
       "                                                                                          TargetEncoder(smoothing=1.0)),\n",
       "                                                                                         ('scaler...\n",
       "                         'estimator__l1_ratio': array([0.01, 0.12, 0.23, 0.34, 0.45, 0.56, 0.67, 0.78, 0.89, 1.  ]),\n",
       "                         'preprocessor__nom__target_encoder__smoothing': array([1.00000000e+00, 1.34222222e+02, 2.67444444e+02, 4.00666667e+02,\n",
       "       5.33888889e+02, 6.67111111e+02, 8.00333333e+02, 9.33555556e+02,\n",
       "       1.06677778e+03, 1.20000000e+03]),\n",
       "                         'preprocessor__num__imputer__strategy': ['mean',\n",
       "                                                                  'median']},\n",
       "             verbose=1)"
      ]
     },
     "execution_count": 17,
     "metadata": {},
     "output_type": "execute_result"
    }
   ],
   "source": [
    "grid_search.fit(X_train, y_train)"
   ]
  },
  {
   "cell_type": "code",
   "execution_count": 18,
   "id": "58c77b59",
   "metadata": {},
   "outputs": [
    {
     "name": "stdout",
     "output_type": "stream",
     "text": [
      "Best parameters found:  {'estimator__alpha': 0.0001, 'estimator__l1_ratio': 1.0, 'preprocessor__nom__target_encoder__smoothing': 1.0, 'preprocessor__num__imputer__strategy': 'mean'}\n",
      "Best cross-validation score: 0.93\n"
     ]
    }
   ],
   "source": [
    "print(\"Best parameters found: \", grid_search.best_params_)\n",
    "print(\"Best cross-validation score: {:.2f}\".format(grid_search.best_score_))"
   ]
  },
  {
   "cell_type": "markdown",
   "id": "a78730e2",
   "metadata": {},
   "source": [
    "### extract the best hyperparameters from the fitted GridSearchCV object"
   ]
  },
  {
   "cell_type": "code",
   "execution_count": 19,
   "id": "ccdd0edb",
   "metadata": {},
   "outputs": [
    {
     "name": "stdout",
     "output_type": "stream",
     "text": [
      "Best hyperparameters: {'estimator__alpha': 0.0001, 'estimator__l1_ratio': 1.0, 'preprocessor__nom__target_encoder__smoothing': 1.0, 'preprocessor__num__imputer__strategy': 'mean'}\n"
     ]
    }
   ],
   "source": [
    "best_params = grid_search.best_params_\n",
    "\n",
    "print(\"Best hyperparameters:\", best_params)\n"
   ]
  },
  {
   "cell_type": "code",
   "execution_count": 20,
   "id": "fd59f42e",
   "metadata": {},
   "outputs": [
    {
     "name": "stdout",
     "output_type": "stream",
     "text": [
      "Best score: 0.9311163619083231\n"
     ]
    }
   ],
   "source": [
    "best_score = grid_search.best_score_\n",
    "print(\"Best score:\", best_score)\n"
   ]
  },
  {
   "cell_type": "markdown",
   "id": "a10e2ffe",
   "metadata": {},
   "source": [
    "The score 0.9311163619083231 is a value between 0 and 1, with 1 being a perfect score. In many contexts, a score of 0.93 (or 93.1%) would be considered quite high."
   ]
  },
  {
   "cell_type": "markdown",
   "id": "68a9e544",
   "metadata": {},
   "source": [
    "### answer the following questions on the best_params_"
   ]
  },
  {
   "cell_type": "markdown",
   "id": "bd9cc7f9",
   "metadata": {},
   "source": [
    "1. Is the best alpha within the bounds of the alpha grid search space?\n",
    "\n",
    "•'estimator__alpha': 0.0001 & Grid Search Space: ```np.logspace(-4, 4, 10)```\n",
    "\n",
    "The smallest value in this log space is 10^(-4) = 0.0001 and the largest is 10^4. The selected alpha is 0.0001, which is at the lower boundary of the provided range.\n",
    "\n",
    "***Yes***, the best alpha (0.0001) is within the bounds of the alpha grid search space, but it's on the lower edge.\n",
    "\n",
    "2. Answer question 1 for l1_ratio.\n",
    "\n",
    "•'estimator__l1_ratio': 1.0 & Grid Search Space: ```np.linspace(0.01, 0.99, 10)```\n",
    "\n",
    "The range for l1_ratio is from 0.01 to 0.99. The selected l1_ratio is 1.0, which is technically outside the defined range. However, considering you intended to include the full range of ElasticNet (from pure Ridge to pure Lasso), it seems there might have been a slight oversight in the grid definition.\n",
    "\n",
    "***Yes***, the best l1_ratio (1.0) is within the bounds of the l1_ratio grid search space, but it's on the upper edge.\n",
    "\n",
    "3. Answer question 1 for smooth.\n",
    "\n",
    "• 'preprocessor__nom__target_encoder__smoothing': 1.0 & Grid Search Space: ```np.linspace(1.0, 10.0 * len(X_train), 10)```\n",
    "\n",
    "The smallest value in this linear space is 1.0, and the largest is 10 times the number of observations in the train set. The selected smoothing value is 1.0, which is at the lower boundary of the provided range.\n",
    "\n",
    "***Yes***, the best smooth value (1.0) is within the bounds of the smooth grid search space, but it's on the lower edge.\n",
    "\n",
    "***Further***\n",
    "It might prove benefial to expand or refine the search space for the parameters that were found on the edge of the space. This will ensure that we are not missing a better configurations."
   ]
  },
  {
   "cell_type": "markdown",
   "id": "9f7befde",
   "metadata": {},
   "source": [
    "### extract the best estimator from the fitted GridSearchCV object"
   ]
  },
  {
   "cell_type": "code",
   "execution_count": 21,
   "id": "6a993be3",
   "metadata": {},
   "outputs": [
    {
     "data": {
      "text/html": [
       "<style>#sk-container-id-2 {color: black;}#sk-container-id-2 pre{padding: 0;}#sk-container-id-2 div.sk-toggleable {background-color: white;}#sk-container-id-2 label.sk-toggleable__label {cursor: pointer;display: block;width: 100%;margin-bottom: 0;padding: 0.3em;box-sizing: border-box;text-align: center;}#sk-container-id-2 label.sk-toggleable__label-arrow:before {content: \"▸\";float: left;margin-right: 0.25em;color: #696969;}#sk-container-id-2 label.sk-toggleable__label-arrow:hover:before {color: black;}#sk-container-id-2 div.sk-estimator:hover label.sk-toggleable__label-arrow:before {color: black;}#sk-container-id-2 div.sk-toggleable__content {max-height: 0;max-width: 0;overflow: hidden;text-align: left;background-color: #f0f8ff;}#sk-container-id-2 div.sk-toggleable__content pre {margin: 0.2em;color: black;border-radius: 0.25em;background-color: #f0f8ff;}#sk-container-id-2 input.sk-toggleable__control:checked~div.sk-toggleable__content {max-height: 200px;max-width: 100%;overflow: auto;}#sk-container-id-2 input.sk-toggleable__control:checked~label.sk-toggleable__label-arrow:before {content: \"▾\";}#sk-container-id-2 div.sk-estimator input.sk-toggleable__control:checked~label.sk-toggleable__label {background-color: #d4ebff;}#sk-container-id-2 div.sk-label input.sk-toggleable__control:checked~label.sk-toggleable__label {background-color: #d4ebff;}#sk-container-id-2 input.sk-hidden--visually {border: 0;clip: rect(1px 1px 1px 1px);clip: rect(1px, 1px, 1px, 1px);height: 1px;margin: -1px;overflow: hidden;padding: 0;position: absolute;width: 1px;}#sk-container-id-2 div.sk-estimator {font-family: monospace;background-color: #f0f8ff;border: 1px dotted black;border-radius: 0.25em;box-sizing: border-box;margin-bottom: 0.5em;}#sk-container-id-2 div.sk-estimator:hover {background-color: #d4ebff;}#sk-container-id-2 div.sk-parallel-item::after {content: \"\";width: 100%;border-bottom: 1px solid gray;flex-grow: 1;}#sk-container-id-2 div.sk-label:hover label.sk-toggleable__label {background-color: #d4ebff;}#sk-container-id-2 div.sk-serial::before {content: \"\";position: absolute;border-left: 1px solid gray;box-sizing: border-box;top: 0;bottom: 0;left: 50%;z-index: 0;}#sk-container-id-2 div.sk-serial {display: flex;flex-direction: column;align-items: center;background-color: white;padding-right: 0.2em;padding-left: 0.2em;position: relative;}#sk-container-id-2 div.sk-item {position: relative;z-index: 1;}#sk-container-id-2 div.sk-parallel {display: flex;align-items: stretch;justify-content: center;background-color: white;position: relative;}#sk-container-id-2 div.sk-item::before, #sk-container-id-2 div.sk-parallel-item::before {content: \"\";position: absolute;border-left: 1px solid gray;box-sizing: border-box;top: 0;bottom: 0;left: 50%;z-index: -1;}#sk-container-id-2 div.sk-parallel-item {display: flex;flex-direction: column;z-index: 1;position: relative;background-color: white;}#sk-container-id-2 div.sk-parallel-item:first-child::after {align-self: flex-end;width: 50%;}#sk-container-id-2 div.sk-parallel-item:last-child::after {align-self: flex-start;width: 50%;}#sk-container-id-2 div.sk-parallel-item:only-child::after {width: 0;}#sk-container-id-2 div.sk-dashed-wrapped {border: 1px dashed gray;margin: 0 0.4em 0.5em 0.4em;box-sizing: border-box;padding-bottom: 0.4em;background-color: white;}#sk-container-id-2 div.sk-label label {font-family: monospace;font-weight: bold;display: inline-block;line-height: 1.2em;}#sk-container-id-2 div.sk-label-container {text-align: center;}#sk-container-id-2 div.sk-container {/* jupyter's `normalize.less` sets `[hidden] { display: none; }` but bootstrap.min.css set `[hidden] { display: none !important; }` so we also need the `!important` here to be able to override the default hidden behavior on the sphinx rendered scikit-learn.org. See: https://github.com/scikit-learn/scikit-learn/issues/21755 */display: inline-block !important;position: relative;}#sk-container-id-2 div.sk-text-repr-fallback {display: none;}</style><div id=\"sk-container-id-2\" class=\"sk-top-container\"><div class=\"sk-text-repr-fallback\"><pre>Pipeline(steps=[(&#x27;preprocessor&#x27;,\n",
       "                 ColumnTransformer(transformers=[(&#x27;num&#x27;,\n",
       "                                                  Pipeline(steps=[(&#x27;imputer&#x27;,\n",
       "                                                                   SimpleImputer()),\n",
       "                                                                  (&#x27;scaler&#x27;,\n",
       "                                                                   StandardScaler())]),\n",
       "                                                  [&#x27;sepal_length&#x27;,\n",
       "                                                   &#x27;sepal_width&#x27;,\n",
       "                                                   &#x27;petal_width&#x27;]),\n",
       "                                                 (&#x27;nom&#x27;,\n",
       "                                                  Pipeline(steps=[(&#x27;imputer&#x27;,\n",
       "                                                                   SimpleImputer(strategy=&#x27;most_frequent&#x27;)),\n",
       "                                                                  (&#x27;target_encoder&#x27;,\n",
       "                                                                   TargetEncoder(smoothing=1.0)),\n",
       "                                                                  (&#x27;scaler&#x27;,\n",
       "                                                                   StandardScaler())]),\n",
       "                                                  [&#x27;species&#x27;])])),\n",
       "                (&#x27;estimator&#x27;, ElasticNet(alpha=0.0001, l1_ratio=1.0))])</pre><b>In a Jupyter environment, please rerun this cell to show the HTML representation or trust the notebook. <br />On GitHub, the HTML representation is unable to render, please try loading this page with nbviewer.org.</b></div><div class=\"sk-container\" hidden><div class=\"sk-item sk-dashed-wrapped\"><div class=\"sk-label-container\"><div class=\"sk-label sk-toggleable\"><input class=\"sk-toggleable__control sk-hidden--visually\" id=\"sk-estimator-id-12\" type=\"checkbox\" ><label for=\"sk-estimator-id-12\" class=\"sk-toggleable__label sk-toggleable__label-arrow\">Pipeline</label><div class=\"sk-toggleable__content\"><pre>Pipeline(steps=[(&#x27;preprocessor&#x27;,\n",
       "                 ColumnTransformer(transformers=[(&#x27;num&#x27;,\n",
       "                                                  Pipeline(steps=[(&#x27;imputer&#x27;,\n",
       "                                                                   SimpleImputer()),\n",
       "                                                                  (&#x27;scaler&#x27;,\n",
       "                                                                   StandardScaler())]),\n",
       "                                                  [&#x27;sepal_length&#x27;,\n",
       "                                                   &#x27;sepal_width&#x27;,\n",
       "                                                   &#x27;petal_width&#x27;]),\n",
       "                                                 (&#x27;nom&#x27;,\n",
       "                                                  Pipeline(steps=[(&#x27;imputer&#x27;,\n",
       "                                                                   SimpleImputer(strategy=&#x27;most_frequent&#x27;)),\n",
       "                                                                  (&#x27;target_encoder&#x27;,\n",
       "                                                                   TargetEncoder(smoothing=1.0)),\n",
       "                                                                  (&#x27;scaler&#x27;,\n",
       "                                                                   StandardScaler())]),\n",
       "                                                  [&#x27;species&#x27;])])),\n",
       "                (&#x27;estimator&#x27;, ElasticNet(alpha=0.0001, l1_ratio=1.0))])</pre></div></div></div><div class=\"sk-serial\"><div class=\"sk-item sk-dashed-wrapped\"><div class=\"sk-label-container\"><div class=\"sk-label sk-toggleable\"><input class=\"sk-toggleable__control sk-hidden--visually\" id=\"sk-estimator-id-13\" type=\"checkbox\" ><label for=\"sk-estimator-id-13\" class=\"sk-toggleable__label sk-toggleable__label-arrow\">preprocessor: ColumnTransformer</label><div class=\"sk-toggleable__content\"><pre>ColumnTransformer(transformers=[(&#x27;num&#x27;,\n",
       "                                 Pipeline(steps=[(&#x27;imputer&#x27;, SimpleImputer()),\n",
       "                                                 (&#x27;scaler&#x27;, StandardScaler())]),\n",
       "                                 [&#x27;sepal_length&#x27;, &#x27;sepal_width&#x27;,\n",
       "                                  &#x27;petal_width&#x27;]),\n",
       "                                (&#x27;nom&#x27;,\n",
       "                                 Pipeline(steps=[(&#x27;imputer&#x27;,\n",
       "                                                  SimpleImputer(strategy=&#x27;most_frequent&#x27;)),\n",
       "                                                 (&#x27;target_encoder&#x27;,\n",
       "                                                  TargetEncoder(smoothing=1.0)),\n",
       "                                                 (&#x27;scaler&#x27;, StandardScaler())]),\n",
       "                                 [&#x27;species&#x27;])])</pre></div></div></div><div class=\"sk-parallel\"><div class=\"sk-parallel-item\"><div class=\"sk-item\"><div class=\"sk-label-container\"><div class=\"sk-label sk-toggleable\"><input class=\"sk-toggleable__control sk-hidden--visually\" id=\"sk-estimator-id-14\" type=\"checkbox\" ><label for=\"sk-estimator-id-14\" class=\"sk-toggleable__label sk-toggleable__label-arrow\">num</label><div class=\"sk-toggleable__content\"><pre>[&#x27;sepal_length&#x27;, &#x27;sepal_width&#x27;, &#x27;petal_width&#x27;]</pre></div></div></div><div class=\"sk-serial\"><div class=\"sk-item\"><div class=\"sk-serial\"><div class=\"sk-item\"><div class=\"sk-estimator sk-toggleable\"><input class=\"sk-toggleable__control sk-hidden--visually\" id=\"sk-estimator-id-15\" type=\"checkbox\" ><label for=\"sk-estimator-id-15\" class=\"sk-toggleable__label sk-toggleable__label-arrow\">SimpleImputer</label><div class=\"sk-toggleable__content\"><pre>SimpleImputer()</pre></div></div></div><div class=\"sk-item\"><div class=\"sk-estimator sk-toggleable\"><input class=\"sk-toggleable__control sk-hidden--visually\" id=\"sk-estimator-id-16\" type=\"checkbox\" ><label for=\"sk-estimator-id-16\" class=\"sk-toggleable__label sk-toggleable__label-arrow\">StandardScaler</label><div class=\"sk-toggleable__content\"><pre>StandardScaler()</pre></div></div></div></div></div></div></div></div><div class=\"sk-parallel-item\"><div class=\"sk-item\"><div class=\"sk-label-container\"><div class=\"sk-label sk-toggleable\"><input class=\"sk-toggleable__control sk-hidden--visually\" id=\"sk-estimator-id-17\" type=\"checkbox\" ><label for=\"sk-estimator-id-17\" class=\"sk-toggleable__label sk-toggleable__label-arrow\">nom</label><div class=\"sk-toggleable__content\"><pre>[&#x27;species&#x27;]</pre></div></div></div><div class=\"sk-serial\"><div class=\"sk-item\"><div class=\"sk-serial\"><div class=\"sk-item\"><div class=\"sk-estimator sk-toggleable\"><input class=\"sk-toggleable__control sk-hidden--visually\" id=\"sk-estimator-id-18\" type=\"checkbox\" ><label for=\"sk-estimator-id-18\" class=\"sk-toggleable__label sk-toggleable__label-arrow\">SimpleImputer</label><div class=\"sk-toggleable__content\"><pre>SimpleImputer(strategy=&#x27;most_frequent&#x27;)</pre></div></div></div><div class=\"sk-item\"><div class=\"sk-estimator sk-toggleable\"><input class=\"sk-toggleable__control sk-hidden--visually\" id=\"sk-estimator-id-19\" type=\"checkbox\" ><label for=\"sk-estimator-id-19\" class=\"sk-toggleable__label sk-toggleable__label-arrow\">TargetEncoder</label><div class=\"sk-toggleable__content\"><pre>TargetEncoder(smoothing=1.0)</pre></div></div></div><div class=\"sk-item\"><div class=\"sk-estimator sk-toggleable\"><input class=\"sk-toggleable__control sk-hidden--visually\" id=\"sk-estimator-id-20\" type=\"checkbox\" ><label for=\"sk-estimator-id-20\" class=\"sk-toggleable__label sk-toggleable__label-arrow\">StandardScaler</label><div class=\"sk-toggleable__content\"><pre>StandardScaler()</pre></div></div></div></div></div></div></div></div></div></div><div class=\"sk-item\"><div class=\"sk-estimator sk-toggleable\"><input class=\"sk-toggleable__control sk-hidden--visually\" id=\"sk-estimator-id-21\" type=\"checkbox\" ><label for=\"sk-estimator-id-21\" class=\"sk-toggleable__label sk-toggleable__label-arrow\">ElasticNet</label><div class=\"sk-toggleable__content\"><pre>ElasticNet(alpha=0.0001, l1_ratio=1.0)</pre></div></div></div></div></div></div></div>"
      ],
      "text/plain": [
       "Pipeline(steps=[('preprocessor',\n",
       "                 ColumnTransformer(transformers=[('num',\n",
       "                                                  Pipeline(steps=[('imputer',\n",
       "                                                                   SimpleImputer()),\n",
       "                                                                  ('scaler',\n",
       "                                                                   StandardScaler())]),\n",
       "                                                  ['sepal_length',\n",
       "                                                   'sepal_width',\n",
       "                                                   'petal_width']),\n",
       "                                                 ('nom',\n",
       "                                                  Pipeline(steps=[('imputer',\n",
       "                                                                   SimpleImputer(strategy='most_frequent')),\n",
       "                                                                  ('target_encoder',\n",
       "                                                                   TargetEncoder(smoothing=1.0)),\n",
       "                                                                  ('scaler',\n",
       "                                                                   StandardScaler())]),\n",
       "                                                  ['species'])])),\n",
       "                ('estimator', ElasticNet(alpha=0.0001, l1_ratio=1.0))])"
      ]
     },
     "execution_count": 21,
     "metadata": {},
     "output_type": "execute_result"
    }
   ],
   "source": [
    "best_estimator = grid_search.best_estimator_\n",
    "best_estimator"
   ]
  },
  {
   "cell_type": "markdown",
   "id": "298b685c",
   "metadata": {},
   "source": [
    "### extract the cv_results_ dictionary from the fitted GridSearchCV object and load it into a dataframe"
   ]
  },
  {
   "cell_type": "code",
   "execution_count": 22,
   "id": "cd64b948",
   "metadata": {},
   "outputs": [],
   "source": [
    "cv_results_df = pd.DataFrame(grid_search.cv_results_)"
   ]
  },
  {
   "cell_type": "code",
   "execution_count": 23,
   "id": "270bf451",
   "metadata": {},
   "outputs": [
    {
     "data": {
      "text/html": [
       "<div>\n",
       "<style scoped>\n",
       "    .dataframe tbody tr th:only-of-type {\n",
       "        vertical-align: middle;\n",
       "    }\n",
       "\n",
       "    .dataframe tbody tr th {\n",
       "        vertical-align: top;\n",
       "    }\n",
       "\n",
       "    .dataframe thead th {\n",
       "        text-align: right;\n",
       "    }\n",
       "</style>\n",
       "<table border=\"1\" class=\"dataframe\">\n",
       "  <thead>\n",
       "    <tr style=\"text-align: right;\">\n",
       "      <th></th>\n",
       "      <th>mean_fit_time</th>\n",
       "      <th>std_fit_time</th>\n",
       "      <th>mean_score_time</th>\n",
       "      <th>std_score_time</th>\n",
       "      <th>param_estimator__alpha</th>\n",
       "      <th>param_estimator__l1_ratio</th>\n",
       "      <th>param_preprocessor__nom__target_encoder__smoothing</th>\n",
       "      <th>param_preprocessor__num__imputer__strategy</th>\n",
       "      <th>params</th>\n",
       "      <th>split0_test_score</th>\n",
       "      <th>split1_test_score</th>\n",
       "      <th>split2_test_score</th>\n",
       "      <th>split3_test_score</th>\n",
       "      <th>split4_test_score</th>\n",
       "      <th>mean_test_score</th>\n",
       "      <th>std_test_score</th>\n",
       "      <th>rank_test_score</th>\n",
       "    </tr>\n",
       "  </thead>\n",
       "  <tbody>\n",
       "    <tr>\n",
       "      <th>0</th>\n",
       "      <td>2.031297</td>\n",
       "      <td>0.028940</td>\n",
       "      <td>0.010957</td>\n",
       "      <td>0.004114</td>\n",
       "      <td>0.0001</td>\n",
       "      <td>0.01</td>\n",
       "      <td>1.0</td>\n",
       "      <td>mean</td>\n",
       "      <td>{'estimator__alpha': 0.0001, 'estimator__l1_ra...</td>\n",
       "      <td>0.944270</td>\n",
       "      <td>0.966491</td>\n",
       "      <td>0.918799</td>\n",
       "      <td>0.969195</td>\n",
       "      <td>0.856824</td>\n",
       "      <td>0.931116</td>\n",
       "      <td>0.041341</td>\n",
       "      <td>10</td>\n",
       "    </tr>\n",
       "    <tr>\n",
       "      <th>1</th>\n",
       "      <td>1.182232</td>\n",
       "      <td>0.946280</td>\n",
       "      <td>0.015291</td>\n",
       "      <td>0.010565</td>\n",
       "      <td>0.0001</td>\n",
       "      <td>0.01</td>\n",
       "      <td>1.0</td>\n",
       "      <td>median</td>\n",
       "      <td>{'estimator__alpha': 0.0001, 'estimator__l1_ra...</td>\n",
       "      <td>0.941825</td>\n",
       "      <td>0.967164</td>\n",
       "      <td>0.913548</td>\n",
       "      <td>0.971905</td>\n",
       "      <td>0.840140</td>\n",
       "      <td>0.926916</td>\n",
       "      <td>0.048114</td>\n",
       "      <td>401</td>\n",
       "    </tr>\n",
       "    <tr>\n",
       "      <th>2</th>\n",
       "      <td>0.020213</td>\n",
       "      <td>0.001009</td>\n",
       "      <td>0.008663</td>\n",
       "      <td>0.003276</td>\n",
       "      <td>0.0001</td>\n",
       "      <td>0.01</td>\n",
       "      <td>134.222222</td>\n",
       "      <td>mean</td>\n",
       "      <td>{'estimator__alpha': 0.0001, 'estimator__l1_ra...</td>\n",
       "      <td>0.944312</td>\n",
       "      <td>0.966582</td>\n",
       "      <td>0.918643</td>\n",
       "      <td>0.969403</td>\n",
       "      <td>0.856431</td>\n",
       "      <td>0.931074</td>\n",
       "      <td>0.041548</td>\n",
       "      <td>190</td>\n",
       "    </tr>\n",
       "    <tr>\n",
       "      <th>3</th>\n",
       "      <td>0.021978</td>\n",
       "      <td>0.008567</td>\n",
       "      <td>0.005783</td>\n",
       "      <td>0.002352</td>\n",
       "      <td>0.0001</td>\n",
       "      <td>0.01</td>\n",
       "      <td>134.222222</td>\n",
       "      <td>median</td>\n",
       "      <td>{'estimator__alpha': 0.0001, 'estimator__l1_ra...</td>\n",
       "      <td>0.941868</td>\n",
       "      <td>0.967273</td>\n",
       "      <td>0.913350</td>\n",
       "      <td>0.972139</td>\n",
       "      <td>0.839690</td>\n",
       "      <td>0.926864</td>\n",
       "      <td>0.048352</td>\n",
       "      <td>588</td>\n",
       "    </tr>\n",
       "    <tr>\n",
       "      <th>4</th>\n",
       "      <td>0.024343</td>\n",
       "      <td>0.013899</td>\n",
       "      <td>0.005602</td>\n",
       "      <td>0.003270</td>\n",
       "      <td>0.0001</td>\n",
       "      <td>0.01</td>\n",
       "      <td>267.444444</td>\n",
       "      <td>mean</td>\n",
       "      <td>{'estimator__alpha': 0.0001, 'estimator__l1_ra...</td>\n",
       "      <td>0.944292</td>\n",
       "      <td>0.966538</td>\n",
       "      <td>0.918717</td>\n",
       "      <td>0.969304</td>\n",
       "      <td>0.856621</td>\n",
       "      <td>0.931094</td>\n",
       "      <td>0.041449</td>\n",
       "      <td>150</td>\n",
       "    </tr>\n",
       "  </tbody>\n",
       "</table>\n",
       "</div>"
      ],
      "text/plain": [
       "   mean_fit_time  std_fit_time  mean_score_time  std_score_time  \\\n",
       "0       2.031297      0.028940         0.010957        0.004114   \n",
       "1       1.182232      0.946280         0.015291        0.010565   \n",
       "2       0.020213      0.001009         0.008663        0.003276   \n",
       "3       0.021978      0.008567         0.005783        0.002352   \n",
       "4       0.024343      0.013899         0.005602        0.003270   \n",
       "\n",
       "  param_estimator__alpha param_estimator__l1_ratio  \\\n",
       "0                 0.0001                      0.01   \n",
       "1                 0.0001                      0.01   \n",
       "2                 0.0001                      0.01   \n",
       "3                 0.0001                      0.01   \n",
       "4                 0.0001                      0.01   \n",
       "\n",
       "  param_preprocessor__nom__target_encoder__smoothing  \\\n",
       "0                                                1.0   \n",
       "1                                                1.0   \n",
       "2                                         134.222222   \n",
       "3                                         134.222222   \n",
       "4                                         267.444444   \n",
       "\n",
       "  param_preprocessor__num__imputer__strategy  \\\n",
       "0                                       mean   \n",
       "1                                     median   \n",
       "2                                       mean   \n",
       "3                                     median   \n",
       "4                                       mean   \n",
       "\n",
       "                                              params  split0_test_score  \\\n",
       "0  {'estimator__alpha': 0.0001, 'estimator__l1_ra...           0.944270   \n",
       "1  {'estimator__alpha': 0.0001, 'estimator__l1_ra...           0.941825   \n",
       "2  {'estimator__alpha': 0.0001, 'estimator__l1_ra...           0.944312   \n",
       "3  {'estimator__alpha': 0.0001, 'estimator__l1_ra...           0.941868   \n",
       "4  {'estimator__alpha': 0.0001, 'estimator__l1_ra...           0.944292   \n",
       "\n",
       "   split1_test_score  split2_test_score  split3_test_score  split4_test_score  \\\n",
       "0           0.966491           0.918799           0.969195           0.856824   \n",
       "1           0.967164           0.913548           0.971905           0.840140   \n",
       "2           0.966582           0.918643           0.969403           0.856431   \n",
       "3           0.967273           0.913350           0.972139           0.839690   \n",
       "4           0.966538           0.918717           0.969304           0.856621   \n",
       "\n",
       "   mean_test_score  std_test_score  rank_test_score  \n",
       "0         0.931116        0.041341               10  \n",
       "1         0.926916        0.048114              401  \n",
       "2         0.931074        0.041548              190  \n",
       "3         0.926864        0.048352              588  \n",
       "4         0.931094        0.041449              150  "
      ]
     },
     "execution_count": 23,
     "metadata": {},
     "output_type": "execute_result"
    }
   ],
   "source": [
    "cv_results_df.head()"
   ]
  },
  {
   "cell_type": "markdown",
   "id": "44bf5f83",
   "metadata": {},
   "source": [
    "### answer the following questions about cv_results_df"
   ]
  },
  {
   "cell_type": "markdown",
   "id": "5a885849",
   "metadata": {},
   "source": [
    "1. What does each row of cv_results_df represent?\n",
    "\n",
    "each row in the 'cv_results_df' is a certian combination of hyperparameters that were evaluated at each grid search. For example, if you tuning 2 hyper parameters and had 3 for the first on and 4 for the second you would have 12 combinations giving 12 rows.\n",
    "\n",
    "2. How is the mean_test_score used and how is it computed?\n",
    "\n",
    "The mean_test_score is the mean or average of the test scores (for accurarcy or another preformance metric) for every fold in the cross validation for the respecrtive hyperparameter combindation. If you had 3 folds you would get 3 tests scores for every hyperparameter combination. Ultimetly indicating how well the model with a certain hyperparameter setting is preforming on average over the folds. \n",
    "\n",
    "3. How many folds were used in this cross validation?\n",
    "\n",
    "We used 5 which can easily be found in the cv parameter when initiating the 'GridSearchCV'. Interestingly enough, 5 is the default value for GridSearchCV so if nothing was put in there would be 5 folds aswell. \n",
    "```\n",
    "n_folds = len([col for col in cv_results_df.columns if \"split\" in col and \"test_score\" in col])\n",
    "```\n",
    "The code above simply counts the number of columns that start with \"split\" and contain the term \"test_score\" to double check the amount of folds.\n",
    "\n",
    "5. How is the best estimator selected from the cross validation?\n",
    "\n",
    "The best estimator is simply the result with the highest 'mean_test_score'. If 'refit' is set to true (which is the default), then after finding the best parameter the model is refit on the entire dataset using hyperparameters. The 'best_estimator_' is the model from the refit."
   ]
  },
  {
   "cell_type": "code",
   "execution_count": 24,
   "id": "74094fe6",
   "metadata": {},
   "outputs": [
    {
     "data": {
      "text/plain": [
       "5"
      ]
     },
     "execution_count": 24,
     "metadata": {},
     "output_type": "execute_result"
    }
   ],
   "source": [
    "n_folds = len([col for col in cv_results_df.columns if \"split\" in col and \"test_score\" in col])\n",
    "n_folds"
   ]
  },
  {
   "cell_type": "markdown",
   "id": "c64e3dee",
   "metadata": {},
   "source": [
    "## check out the permutation feature importance"
   ]
  },
  {
   "cell_type": "markdown",
   "id": "618c02f6",
   "metadata": {},
   "source": [
    "#### calculate the baseline metric"
   ]
  },
  {
   "cell_type": "code",
   "execution_count": 25,
   "id": "1b081a90",
   "metadata": {},
   "outputs": [
    {
     "name": "stdout",
     "output_type": "stream",
     "text": [
      "-0.32191614333775254\n"
     ]
    }
   ],
   "source": [
    "\n",
    "scores = cross_val_score(best_estimator, X, y, cv=5, scoring='neg_mean_absolute_error')\n",
    "print(scores.mean())\n"
   ]
  },
  {
   "cell_type": "code",
   "execution_count": 26,
   "id": "6ed8b0c7",
   "metadata": {},
   "outputs": [
    {
     "name": "stdout",
     "output_type": "stream",
     "text": [
      "Baseline MAE: 1.56\n"
     ]
    }
   ],
   "source": [
    "y_pred_baseline = np.full_like(y, y.mean())\n",
    "\n",
    "mae_baseline = mean_absolute_error(y, y_pred_baseline)\n",
    "\n",
    "print(f'Baseline MAE: {mae_baseline:.2f}')"
   ]
  },
  {
   "cell_type": "code",
   "execution_count": 27,
   "id": "842efe1a",
   "metadata": {},
   "outputs": [
    {
     "name": "stdout",
     "output_type": "stream",
     "text": [
      "scores: [-0.15098661 -0.34250556 -0.15444205 -0.17101739 -0.27834123]\n",
      "Mean MSE: -0.21945856875520078 \n",
      "Standard Deviation: 0.07729144201539954\n"
     ]
    }
   ],
   "source": [
    "scores = cross_val_score(best_estimator, X, y, cv=5, scoring='neg_mean_squared_error')\n",
    "\n",
    "mse_scores = scores\n",
    "print(\"scores:\",scores)\n",
    "print(f\"Mean MSE: {mse_scores.mean()} \\nStandard Deviation: {mse_scores.std()}\")"
   ]
  },
  {
   "cell_type": "markdown",
   "id": "497a1810",
   "metadata": {},
   "source": [
    "#### calculate the permutation feature importance dictionary"
   ]
  },
  {
   "cell_type": "code",
   "execution_count": 28,
   "id": "fa8cce7c",
   "metadata": {},
   "outputs": [],
   "source": [
    "result = permutation_importance(best_estimator, X_train, y_train, n_repeats = 30, random_state = 42)\n",
    "perm_importance = dict(zip(X_train.columns, result.importances_mean))"
   ]
  },
  {
   "cell_type": "markdown",
   "id": "95b87854",
   "metadata": {},
   "source": [
    "#### print out the feature importances"
   ]
  },
  {
   "cell_type": "code",
   "execution_count": 29,
   "id": "f95a346a",
   "metadata": {
    "scrolled": true
   },
   "outputs": [
    {
     "name": "stdout",
     "output_type": "stream",
     "text": [
      "petal_width: 0.3673033600632873\n",
      "sepal_length: 0.27496773848842493\n",
      "species: 0.07607216543687988\n",
      "sepal_width: 0.030808033912825064\n"
     ]
    }
   ],
   "source": [
    "for feature, importance in sorted(perm_importance.items(), key=lambda x: x[1], reverse=True):\n",
    "    print(f\"{feature}: {importance}\")"
   ]
  },
  {
   "cell_type": "markdown",
   "id": "58edde24",
   "metadata": {},
   "source": [
    "### answer the following questions about the permutation feature importance results"
   ]
  },
  {
   "cell_type": "markdown",
   "id": "d9b13d3a",
   "metadata": {},
   "source": [
    "1. How is the permutation feature importance defined?\n",
    "\n",
    "Permutation feature importance is determined through the following steps:\n",
    "\n",
    "• A specific feature or column in the validation set is randomly shuffled.\n",
    "\n",
    "• The model's performance is then evaluated using this perturbed dataset, highlighting the change in accuracy when the feature's original order is disrupted.\n",
    "\n",
    "• This process is repeated several times (determined by the n_repeats parameter) to ensure a stable estimate.\n",
    "\n",
    "• A feature's importance is gauged by the decrease in the model's performance due to this shuffling. Highly important features will show a significant drop in performance when shuffled, while less critical features will have minimal impact on the model's accuracy.\n",
    "\n",
    "2. Which attribute is the most importance feature for this model/data combination?\n",
    "\n",
    "petal_width is the most important feature. \n",
    "\n",
    "3. What is the baseline metric?\n",
    "\n",
    "\n",
    "The baseline metric provides a measure of a model's performance on the original, unaltered dataset. It serves as a reference point against which scores from permuted or modified datasets are compared. Any significant drop in performance when compared to this baseline indicates the importance of the feature being tested or the effect of the modification made.\n",
    "\n",
    "4. Why is the baseline metric negative?\n",
    "\n",
    "The negative value for the baseline metric, particularly in Scikit-learn, arises from the library's scoring convention where higher scores indicate better performance. For regression tasks, we typically aim to minimize the Mean Squared Error (MSE). By using the negative MSE as the scoring metric, Scikit-learn aligns with its convention. So, when tools like GridSearchCV are employed to optimize model parameters, they attempt to maximize this negative score, which corresponds to minimizing the actual MSE. This is why you observe a negative value for the baseline metric in Scikit-learn.\n"
   ]
  },
  {
   "cell_type": "markdown",
   "id": "21a459af",
   "metadata": {},
   "source": [
    "## check out the fit of the best fit estimator on the train set using a pred vs actual plot, the train rmse and the relative train rmse"
   ]
  },
  {
   "cell_type": "markdown",
   "id": "cbaa2de6",
   "metadata": {},
   "source": [
    "#### plot the prediction y vs the actual y"
   ]
  },
  {
   "cell_type": "code",
   "execution_count": 30,
   "id": "30683315",
   "metadata": {},
   "outputs": [
    {
     "data": {
      "text/html": [
       "<style>#sk-container-id-3 {color: black;}#sk-container-id-3 pre{padding: 0;}#sk-container-id-3 div.sk-toggleable {background-color: white;}#sk-container-id-3 label.sk-toggleable__label {cursor: pointer;display: block;width: 100%;margin-bottom: 0;padding: 0.3em;box-sizing: border-box;text-align: center;}#sk-container-id-3 label.sk-toggleable__label-arrow:before {content: \"▸\";float: left;margin-right: 0.25em;color: #696969;}#sk-container-id-3 label.sk-toggleable__label-arrow:hover:before {color: black;}#sk-container-id-3 div.sk-estimator:hover label.sk-toggleable__label-arrow:before {color: black;}#sk-container-id-3 div.sk-toggleable__content {max-height: 0;max-width: 0;overflow: hidden;text-align: left;background-color: #f0f8ff;}#sk-container-id-3 div.sk-toggleable__content pre {margin: 0.2em;color: black;border-radius: 0.25em;background-color: #f0f8ff;}#sk-container-id-3 input.sk-toggleable__control:checked~div.sk-toggleable__content {max-height: 200px;max-width: 100%;overflow: auto;}#sk-container-id-3 input.sk-toggleable__control:checked~label.sk-toggleable__label-arrow:before {content: \"▾\";}#sk-container-id-3 div.sk-estimator input.sk-toggleable__control:checked~label.sk-toggleable__label {background-color: #d4ebff;}#sk-container-id-3 div.sk-label input.sk-toggleable__control:checked~label.sk-toggleable__label {background-color: #d4ebff;}#sk-container-id-3 input.sk-hidden--visually {border: 0;clip: rect(1px 1px 1px 1px);clip: rect(1px, 1px, 1px, 1px);height: 1px;margin: -1px;overflow: hidden;padding: 0;position: absolute;width: 1px;}#sk-container-id-3 div.sk-estimator {font-family: monospace;background-color: #f0f8ff;border: 1px dotted black;border-radius: 0.25em;box-sizing: border-box;margin-bottom: 0.5em;}#sk-container-id-3 div.sk-estimator:hover {background-color: #d4ebff;}#sk-container-id-3 div.sk-parallel-item::after {content: \"\";width: 100%;border-bottom: 1px solid gray;flex-grow: 1;}#sk-container-id-3 div.sk-label:hover label.sk-toggleable__label {background-color: #d4ebff;}#sk-container-id-3 div.sk-serial::before {content: \"\";position: absolute;border-left: 1px solid gray;box-sizing: border-box;top: 0;bottom: 0;left: 50%;z-index: 0;}#sk-container-id-3 div.sk-serial {display: flex;flex-direction: column;align-items: center;background-color: white;padding-right: 0.2em;padding-left: 0.2em;position: relative;}#sk-container-id-3 div.sk-item {position: relative;z-index: 1;}#sk-container-id-3 div.sk-parallel {display: flex;align-items: stretch;justify-content: center;background-color: white;position: relative;}#sk-container-id-3 div.sk-item::before, #sk-container-id-3 div.sk-parallel-item::before {content: \"\";position: absolute;border-left: 1px solid gray;box-sizing: border-box;top: 0;bottom: 0;left: 50%;z-index: -1;}#sk-container-id-3 div.sk-parallel-item {display: flex;flex-direction: column;z-index: 1;position: relative;background-color: white;}#sk-container-id-3 div.sk-parallel-item:first-child::after {align-self: flex-end;width: 50%;}#sk-container-id-3 div.sk-parallel-item:last-child::after {align-self: flex-start;width: 50%;}#sk-container-id-3 div.sk-parallel-item:only-child::after {width: 0;}#sk-container-id-3 div.sk-dashed-wrapped {border: 1px dashed gray;margin: 0 0.4em 0.5em 0.4em;box-sizing: border-box;padding-bottom: 0.4em;background-color: white;}#sk-container-id-3 div.sk-label label {font-family: monospace;font-weight: bold;display: inline-block;line-height: 1.2em;}#sk-container-id-3 div.sk-label-container {text-align: center;}#sk-container-id-3 div.sk-container {/* jupyter's `normalize.less` sets `[hidden] { display: none; }` but bootstrap.min.css set `[hidden] { display: none !important; }` so we also need the `!important` here to be able to override the default hidden behavior on the sphinx rendered scikit-learn.org. See: https://github.com/scikit-learn/scikit-learn/issues/21755 */display: inline-block !important;position: relative;}#sk-container-id-3 div.sk-text-repr-fallback {display: none;}</style><div id=\"sk-container-id-3\" class=\"sk-top-container\"><div class=\"sk-text-repr-fallback\"><pre>Pipeline(steps=[(&#x27;preprocessor&#x27;,\n",
       "                 ColumnTransformer(transformers=[(&#x27;num&#x27;,\n",
       "                                                  Pipeline(steps=[(&#x27;imputer&#x27;,\n",
       "                                                                   SimpleImputer()),\n",
       "                                                                  (&#x27;scaler&#x27;,\n",
       "                                                                   StandardScaler())]),\n",
       "                                                  [&#x27;sepal_length&#x27;,\n",
       "                                                   &#x27;sepal_width&#x27;,\n",
       "                                                   &#x27;petal_width&#x27;]),\n",
       "                                                 (&#x27;nom&#x27;,\n",
       "                                                  Pipeline(steps=[(&#x27;imputer&#x27;,\n",
       "                                                                   SimpleImputer(strategy=&#x27;most_frequent&#x27;)),\n",
       "                                                                  (&#x27;target_encoder&#x27;,\n",
       "                                                                   TargetEncoder(smoothing=1.0)),\n",
       "                                                                  (&#x27;scaler&#x27;,\n",
       "                                                                   StandardScaler())]),\n",
       "                                                  [&#x27;species&#x27;])])),\n",
       "                (&#x27;estimator&#x27;, ElasticNet(alpha=0.0001, l1_ratio=1.0))])</pre><b>In a Jupyter environment, please rerun this cell to show the HTML representation or trust the notebook. <br />On GitHub, the HTML representation is unable to render, please try loading this page with nbviewer.org.</b></div><div class=\"sk-container\" hidden><div class=\"sk-item sk-dashed-wrapped\"><div class=\"sk-label-container\"><div class=\"sk-label sk-toggleable\"><input class=\"sk-toggleable__control sk-hidden--visually\" id=\"sk-estimator-id-22\" type=\"checkbox\" ><label for=\"sk-estimator-id-22\" class=\"sk-toggleable__label sk-toggleable__label-arrow\">Pipeline</label><div class=\"sk-toggleable__content\"><pre>Pipeline(steps=[(&#x27;preprocessor&#x27;,\n",
       "                 ColumnTransformer(transformers=[(&#x27;num&#x27;,\n",
       "                                                  Pipeline(steps=[(&#x27;imputer&#x27;,\n",
       "                                                                   SimpleImputer()),\n",
       "                                                                  (&#x27;scaler&#x27;,\n",
       "                                                                   StandardScaler())]),\n",
       "                                                  [&#x27;sepal_length&#x27;,\n",
       "                                                   &#x27;sepal_width&#x27;,\n",
       "                                                   &#x27;petal_width&#x27;]),\n",
       "                                                 (&#x27;nom&#x27;,\n",
       "                                                  Pipeline(steps=[(&#x27;imputer&#x27;,\n",
       "                                                                   SimpleImputer(strategy=&#x27;most_frequent&#x27;)),\n",
       "                                                                  (&#x27;target_encoder&#x27;,\n",
       "                                                                   TargetEncoder(smoothing=1.0)),\n",
       "                                                                  (&#x27;scaler&#x27;,\n",
       "                                                                   StandardScaler())]),\n",
       "                                                  [&#x27;species&#x27;])])),\n",
       "                (&#x27;estimator&#x27;, ElasticNet(alpha=0.0001, l1_ratio=1.0))])</pre></div></div></div><div class=\"sk-serial\"><div class=\"sk-item sk-dashed-wrapped\"><div class=\"sk-label-container\"><div class=\"sk-label sk-toggleable\"><input class=\"sk-toggleable__control sk-hidden--visually\" id=\"sk-estimator-id-23\" type=\"checkbox\" ><label for=\"sk-estimator-id-23\" class=\"sk-toggleable__label sk-toggleable__label-arrow\">preprocessor: ColumnTransformer</label><div class=\"sk-toggleable__content\"><pre>ColumnTransformer(transformers=[(&#x27;num&#x27;,\n",
       "                                 Pipeline(steps=[(&#x27;imputer&#x27;, SimpleImputer()),\n",
       "                                                 (&#x27;scaler&#x27;, StandardScaler())]),\n",
       "                                 [&#x27;sepal_length&#x27;, &#x27;sepal_width&#x27;,\n",
       "                                  &#x27;petal_width&#x27;]),\n",
       "                                (&#x27;nom&#x27;,\n",
       "                                 Pipeline(steps=[(&#x27;imputer&#x27;,\n",
       "                                                  SimpleImputer(strategy=&#x27;most_frequent&#x27;)),\n",
       "                                                 (&#x27;target_encoder&#x27;,\n",
       "                                                  TargetEncoder(smoothing=1.0)),\n",
       "                                                 (&#x27;scaler&#x27;, StandardScaler())]),\n",
       "                                 [&#x27;species&#x27;])])</pre></div></div></div><div class=\"sk-parallel\"><div class=\"sk-parallel-item\"><div class=\"sk-item\"><div class=\"sk-label-container\"><div class=\"sk-label sk-toggleable\"><input class=\"sk-toggleable__control sk-hidden--visually\" id=\"sk-estimator-id-24\" type=\"checkbox\" ><label for=\"sk-estimator-id-24\" class=\"sk-toggleable__label sk-toggleable__label-arrow\">num</label><div class=\"sk-toggleable__content\"><pre>[&#x27;sepal_length&#x27;, &#x27;sepal_width&#x27;, &#x27;petal_width&#x27;]</pre></div></div></div><div class=\"sk-serial\"><div class=\"sk-item\"><div class=\"sk-serial\"><div class=\"sk-item\"><div class=\"sk-estimator sk-toggleable\"><input class=\"sk-toggleable__control sk-hidden--visually\" id=\"sk-estimator-id-25\" type=\"checkbox\" ><label for=\"sk-estimator-id-25\" class=\"sk-toggleable__label sk-toggleable__label-arrow\">SimpleImputer</label><div class=\"sk-toggleable__content\"><pre>SimpleImputer()</pre></div></div></div><div class=\"sk-item\"><div class=\"sk-estimator sk-toggleable\"><input class=\"sk-toggleable__control sk-hidden--visually\" id=\"sk-estimator-id-26\" type=\"checkbox\" ><label for=\"sk-estimator-id-26\" class=\"sk-toggleable__label sk-toggleable__label-arrow\">StandardScaler</label><div class=\"sk-toggleable__content\"><pre>StandardScaler()</pre></div></div></div></div></div></div></div></div><div class=\"sk-parallel-item\"><div class=\"sk-item\"><div class=\"sk-label-container\"><div class=\"sk-label sk-toggleable\"><input class=\"sk-toggleable__control sk-hidden--visually\" id=\"sk-estimator-id-27\" type=\"checkbox\" ><label for=\"sk-estimator-id-27\" class=\"sk-toggleable__label sk-toggleable__label-arrow\">nom</label><div class=\"sk-toggleable__content\"><pre>[&#x27;species&#x27;]</pre></div></div></div><div class=\"sk-serial\"><div class=\"sk-item\"><div class=\"sk-serial\"><div class=\"sk-item\"><div class=\"sk-estimator sk-toggleable\"><input class=\"sk-toggleable__control sk-hidden--visually\" id=\"sk-estimator-id-28\" type=\"checkbox\" ><label for=\"sk-estimator-id-28\" class=\"sk-toggleable__label sk-toggleable__label-arrow\">SimpleImputer</label><div class=\"sk-toggleable__content\"><pre>SimpleImputer(strategy=&#x27;most_frequent&#x27;)</pre></div></div></div><div class=\"sk-item\"><div class=\"sk-estimator sk-toggleable\"><input class=\"sk-toggleable__control sk-hidden--visually\" id=\"sk-estimator-id-29\" type=\"checkbox\" ><label for=\"sk-estimator-id-29\" class=\"sk-toggleable__label sk-toggleable__label-arrow\">TargetEncoder</label><div class=\"sk-toggleable__content\"><pre>TargetEncoder(smoothing=1.0)</pre></div></div></div><div class=\"sk-item\"><div class=\"sk-estimator sk-toggleable\"><input class=\"sk-toggleable__control sk-hidden--visually\" id=\"sk-estimator-id-30\" type=\"checkbox\" ><label for=\"sk-estimator-id-30\" class=\"sk-toggleable__label sk-toggleable__label-arrow\">StandardScaler</label><div class=\"sk-toggleable__content\"><pre>StandardScaler()</pre></div></div></div></div></div></div></div></div></div></div><div class=\"sk-item\"><div class=\"sk-estimator sk-toggleable\"><input class=\"sk-toggleable__control sk-hidden--visually\" id=\"sk-estimator-id-31\" type=\"checkbox\" ><label for=\"sk-estimator-id-31\" class=\"sk-toggleable__label sk-toggleable__label-arrow\">ElasticNet</label><div class=\"sk-toggleable__content\"><pre>ElasticNet(alpha=0.0001, l1_ratio=1.0)</pre></div></div></div></div></div></div></div>"
      ],
      "text/plain": [
       "Pipeline(steps=[('preprocessor',\n",
       "                 ColumnTransformer(transformers=[('num',\n",
       "                                                  Pipeline(steps=[('imputer',\n",
       "                                                                   SimpleImputer()),\n",
       "                                                                  ('scaler',\n",
       "                                                                   StandardScaler())]),\n",
       "                                                  ['sepal_length',\n",
       "                                                   'sepal_width',\n",
       "                                                   'petal_width']),\n",
       "                                                 ('nom',\n",
       "                                                  Pipeline(steps=[('imputer',\n",
       "                                                                   SimpleImputer(strategy='most_frequent')),\n",
       "                                                                  ('target_encoder',\n",
       "                                                                   TargetEncoder(smoothing=1.0)),\n",
       "                                                                  ('scaler',\n",
       "                                                                   StandardScaler())]),\n",
       "                                                  ['species'])])),\n",
       "                ('estimator', ElasticNet(alpha=0.0001, l1_ratio=1.0))])"
      ]
     },
     "execution_count": 30,
     "metadata": {},
     "output_type": "execute_result"
    }
   ],
   "source": [
    "best_estimator.fit(X_train, y_train)"
   ]
  },
  {
   "cell_type": "code",
   "execution_count": 31,
   "id": "50f07ae4",
   "metadata": {},
   "outputs": [
    {
     "data": {
      "image/png": "[encoded data removed]",
      "text/plain": [
       "<Figure size 1000x600 with 1 Axes>"
      ]
     },
     "metadata": {},
     "output_type": "display_data"
    }
   ],
   "source": [
    "import matplotlib.pyplot as plt \n",
    "\n",
    "y_pred = best_estimator.predict(X_train)\n",
    "\n",
    "plt.figure(figsize=(10, 6))\n",
    "plt.scatter(y_train, y_pred, alpha=0.5)\n",
    "plt.plot([min(y_train), max(y_train)], [min(y_train), max(y_train)], color='red')  # Line of perfect prediction\n",
    "plt.xlabel('Actual y')\n",
    "plt.ylabel('Predicted y')\n",
    "plt.title('Actual vs Predicted')\n",
    "plt.grid(True)\n",
    "plt.show()\n"
   ]
  },
  {
   "cell_type": "markdown",
   "id": "e605409e",
   "metadata": {},
   "source": [
    "#### compute the rmse"
   ]
  },
  {
   "cell_type": "code",
   "execution_count": 32,
   "id": "799b4076",
   "metadata": {},
   "outputs": [
    {
     "name": "stdout",
     "output_type": "stream",
     "text": [
      "Root Mean Squared Error (RMSE): 0.4214525982387282\n"
     ]
    }
   ],
   "source": [
    "y_pred = best_estimator.predict(X_train)  # Replace X_train with X_val if you want to use the validation set\n",
    "\n",
    "mse = mean_squared_error(y_train, y_pred)  # Replace y_train with y_val if you want to use the validation set\n",
    "\n",
    "rmse = np.sqrt(mse)\n",
    "\n",
    "print(f'Root Mean Squared Error (RMSE): {rmse}')\n"
   ]
  },
  {
   "cell_type": "markdown",
   "id": "77de021a",
   "metadata": {},
   "source": [
    "#### compute the relative rmse"
   ]
  },
  {
   "cell_type": "code",
   "execution_count": 33,
   "id": "2df741e9",
   "metadata": {},
   "outputs": [
    {
     "name": "stdout",
     "output_type": "stream",
     "text": [
      "Relative Root Mean Squared Error (RRMSE): 11.03%\n"
     ]
    }
   ],
   "source": [
    "y_pred = best_estimator.predict(X_train)  # Replace X_train with X_val if you want to use the validation set\n",
    "\n",
    "mse = mean_squared_error(y_train, y_pred)  # Replace y_train with y_val if you want to use the validation set\n",
    "\n",
    "rmse = np.sqrt(mse)\n",
    "\n",
    "mean_actual = np.mean(y_train)  # Replace y_train with y_val if you want to use the validation set\n",
    "\n",
    "rrmse = (rmse / mean_actual) * 100\n",
    "\n",
    "print(f'Relative Root Mean Squared Error (RRMSE): {rrmse:.2f}%')\n"
   ]
  },
  {
   "cell_type": "markdown",
   "id": "695e3e74",
   "metadata": {},
   "source": [
    "## estimate the generalization of the best fit estimator on the test set"
   ]
  },
  {
   "cell_type": "markdown",
   "id": "433865bc",
   "metadata": {},
   "source": [
    "#### load the test set"
   ]
  },
  {
   "cell_type": "code",
   "execution_count": 34,
   "id": "88bdd864",
   "metadata": {},
   "outputs": [],
   "source": [
    "import pandas as pd\n",
    "\n",
    "X_test = pd.read_csv('test_set.csv')\n",
    "y_test = pd.read_csv('test_labels.csv', header=0).squeeze(\"columns\")  # header=None and squeeze=True ensure y_test is a Pandas Series\n",
    "\n"
   ]
  },
  {
   "cell_type": "markdown",
   "id": "5c9be749",
   "metadata": {},
   "source": [
    "#### plot the prediction y vs the actual y"
   ]
  },
  {
   "cell_type": "code",
   "execution_count": 35,
   "id": "7ac6dc4e",
   "metadata": {
    "scrolled": true
   },
   "outputs": [
    {
     "data": {
      "image/png": "[encoded data removed]",
      "text/plain": [
       "<Figure size 1000x600 with 1 Axes>"
      ]
     },
     "metadata": {},
     "output_type": "display_data"
    }
   ],
   "source": [
    "import matplotlib.pyplot as plt\n",
    "\n",
    "y_pred = best_estimator.predict(X_test)  # Generate predictions on the test set\n",
    "\n",
    "plt.figure(figsize=(10, 6))\n",
    "plt.scatter(y_test, y_pred, alpha=0.5)\n",
    "plt.plot([min(y_test), max(y_test)], [min(y_test), max(y_test)], color='red')  # Line of perfect prediction\n",
    "plt.xlabel('Actual y')\n",
    "plt.ylabel('Predicted y')\n",
    "plt.title('Actual vs Predicted on Test Data')\n",
    "plt.grid(True)\n",
    "plt.show()\n"
   ]
  },
  {
   "cell_type": "markdown",
   "id": "1efd289b",
   "metadata": {},
   "source": [
    "#### compute the rmse"
   ]
  },
  {
   "cell_type": "code",
   "execution_count": 36,
   "id": "d32f5288",
   "metadata": {},
   "outputs": [
    {
     "name": "stdout",
     "output_type": "stream",
     "text": [
      "Root Mean Squared Error (RMSE): 0.2954715010510214\n"
     ]
    }
   ],
   "source": [
    "y_pred = best_estimator.predict(X_test)  # Replace X_train with X_val if you want to use the validation set\n",
    "\n",
    "mse = mean_squared_error(y_test, y_pred)  # Replace y_train with y_val if you want to use the validation set\n",
    "\n",
    "rmse = np.sqrt(mse)\n",
    "\n",
    "print(f'Root Mean Squared Error (RMSE): {rmse}')"
   ]
  },
  {
   "cell_type": "markdown",
   "id": "02b5ba67",
   "metadata": {},
   "source": [
    "#### compute the relative rmse"
   ]
  },
  {
   "cell_type": "code",
   "execution_count": 37,
   "id": "0848e1ca",
   "metadata": {},
   "outputs": [
    {
     "name": "stdout",
     "output_type": "stream",
     "text": [
      "Relative Root Mean Squared Error (RRMSE): 8.43%\n"
     ]
    }
   ],
   "source": [
    "y_pred = best_estimator.predict(X_test)  # Generate predictions on the test set\n",
    "\n",
    "mse = mean_squared_error(y_test, y_pred)\n",
    "\n",
    "rmse = np.sqrt(mse)\n",
    "\n",
    "mean_actual = np.mean(y_test)\n",
    "\n",
    "rrmse = (rmse / mean_actual) * 100\n",
    "\n",
    "print(f'Relative Root Mean Squared Error (RRMSE): {rrmse:.2f}%')"
   ]
  },
  {
   "cell_type": "code",
   "execution_count": null,
   "id": "62506920",
   "metadata": {},
   "outputs": [],
   "source": []
  }
 ],
 "metadata": {
  "kernelspec": {
   "display_name": "hw0",
   "language": "python",
   "name": "hw0"
  },
  "language_info": {
   "codemirror_mode": {
    "name": "ipython",
    "version": 3
   },
   "file_extension": ".py",
   "mimetype": "text/x-python",
   "name": "python",
   "nbconvert_exporter": "python",
   "pygments_lexer": "ipython3",
   "version": "3.9.16 (main, Mar  8 2023, 04:29:44) \n[Clang 14.0.6 ]"
  }
 },
 "nbformat": 4,
 "nbformat_minor": 5
}
